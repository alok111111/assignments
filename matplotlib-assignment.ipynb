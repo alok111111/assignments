{
 "cells": [
  {
   "cell_type": "code",
   "execution_count": 5,
   "id": "910705fa-7f80-488f-9020-90b793ab989b",
   "metadata": {},
   "outputs": [
    {
     "data": {
      "image/png": "[encoded data removed]",
      "text/plain": [
       "<Figure size 640x480 with 1 Axes>"
      ]
     },
     "metadata": {},
     "output_type": "display_data"
    }
   ],
   "source": [
    "'''Q5.Ans:\n",
    "          A box plot is a method for graphically depicting groups of numerical data through their\n",
    "          quartilies.basically divide threee part minimum,Maximum and median\n",
    "          \n",
    "          \n",
    "          why used.\n",
    "                   The box plot is suitable for comparing range and distribution for groups of numerical data.\n",
    "                   '''\n",
    "import matplotlib.pyplot as plt\n",
    "import numpy as np\n",
    "box1=np.random.normal(100,10,200)\n",
    "box2=np.random.normal(90,20,200)\n",
    "d=[box1,box2]\n",
    "plt.boxplot (d)\n",
    "plt.show()\n",
    "\n",
    "\n"
   ]
  },
  {
   "cell_type": "markdown",
   "id": "0b5b17b1-6e9e-41f2-8a20-fb91a7a32211",
   "metadata": {},
   "source": [
    "'''Q1.Ans:\n",
    "\n",
    "Matplotlib is very popular and powerful python library to visualize data in different plot.\n",
    "\n",
    "use  mtplotlib main advantage  to visualize data very easy and understanding data distribution onx-axis and y-axis.\n",
    "\n",
    "there are five  plots using pyplots.\n",
    "\n",
    "  1.plot\n",
    "  2.bar-plot\n",
    "  3.hist-plot\n",
    "  4.scatter-plot\n",
    "  5.pie plot etc.'''\n",
    "\n",
    "'''Q2.Ans:\n",
    "         scatter plot is very important to visualize data in the form of doted symbol.and there are various arguments\n",
    "          alpha,color,size for beautificaton of data representation.\n",
    "\n",
    "import matplotlib.pyplot as plt\n",
    "import numpy as np\n",
    "np.random.seed(3)\n",
    "x=3+np.random.normal(0,2,50)\n",
    "y=3+np.random.normal(0,2,len(x))\n",
    "plt.xlabel('x-axis')\n",
    "plt.ylabel('y-axis')\n",
    "plt.title('this is scatter plot')\n",
    "plt.scatter(x,y)\n",
    "plt.show()\n",
    "''' \n",
    "\n",
    "'''\n",
    "Q4.Ans:\n",
    "      Bar plot is a very impotant to data representation and using bar plot to visualize data categorical and numerical data.\n",
    "      \n",
    "\n",
    "import matplotlib.pyplot as plt\n",
    "import numpy as np\n",
    "company=np.array(['google','AMD','Apple','Microsoft'])\n",
    "profit=np.array(['3000','8000','1000','10000'])\n",
    "plt.xlabel('Company Name')\n",
    "plt.ylabel('Profit')\n",
    "plt.title('Bar-plot')\n",
    "plt.barh(company,profit)\n",
    "plt.show()\n",
    "''' \n",
    "\n",
    "\n",
    "\n",
    "'''Q3Ans:subplots methods provide a way to plot multiple plots on a single figure.\n",
    "the number of rows and columns,it returns a tuple(fig,ax)\n",
    "\n",
    "import matplotlib.pyplot as plt\n",
    "import numpy as np\n",
    "x=np.array([0,1,2,3,4,5])\n",
    "y=np.array([0,100,200,300,400,500])\n",
    "plt.subplot(1,2,1)\n",
    "plt.plot(x,y)\n",
    "plt.show()\n",
    "x=np.array([0,1,2,3,3,4,5])\n",
    "y=np.array([50,20,40,20,60,70])\n",
    "plt.subplot(1,2,1)\n",
    "plt.plot(x,y)\n",
    "plt.show()\n",
    "x=np.array([0,1,2,3,3,4,5])\n",
    "y=np.array([200,350,250,550,450,150])\n",
    "plt.subplot(1,2,1)\n",
    "plt.plot(x,y)\n",
    "plt.show()\n",
    "'''\n",
    "\n",
    "\n",
    " "
   ]
  }
 ],
 "metadata": {
  "kernelspec": {
   "display_name": "Python 3 (ipykernel)",
   "language": "python",
   "name": "python3"
  },
  "language_info": {
   "codemirror_mode": {
    "name": "ipython",
    "version": 3
   },
   "file_extension": ".py",
   "mimetype": "text/x-python",
   "name": "python",
   "nbconvert_exporter": "python",
   "pygments_lexer": "ipython3",
   "version": "3.10.8"
  }
 },
 "nbformat": 4,
 "nbformat_minor": 5
}
